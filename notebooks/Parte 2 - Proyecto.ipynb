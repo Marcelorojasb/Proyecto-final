{
 "cells": [
  {
   "cell_type": "code",
   "execution_count": 2,
   "metadata": {},
   "outputs": [],
   "source": [
    "#IMPORTS\n",
    "import numpy as np"
   ]
  },
  {
   "attachments": {},
   "cell_type": "markdown",
   "metadata": {},
   "source": [
    "# P2: Implemente una medida de similitud\n",
    "\n",
    "Se pretende implementar una medida de similitud entre dos vectores de características. Para ello, se propone la siguiente función:"
   ]
  },
  {
   "cell_type": "code",
   "execution_count": 12,
   "metadata": {},
   "outputs": [
    {
     "name": "stdout",
     "output_type": "stream",
     "text": [
      "[ 0.          5.19615242 10.39230485]\n"
     ]
    }
   ],
   "source": [
    "def distancia(a,b, tipo = \"euclidiana\"):\n",
    "    assert len(a) == len(b)\n",
    "    if tipo == \"euclidiana\":\n",
    "        distancia = np.sqrt(np.sum((a-b)**2))\n",
    "    elif tipo == \"manhattan\":\n",
    "        distancia = np.sum(np.abs(a-b))\n",
    "    elif tipo == \"coseno\":\n",
    "        distancia = 1 - np.dot(a,b)/(np.sqrt(np.dot(a,a))*np.sqrt(np.dot(b,b)))\n",
    "    else:\n",
    "        distancia = None\n",
    "    return distancia\n",
    "\n",
    "def similitud(a, vectors, tipo = \"euclidiana\"):\n",
    "    n = len(vectors)\n",
    "    similitud = np.zeros(n)\n",
    "    for i in range(n):\n",
    "        similitud[i] = distancia(a, vectors[i], tipo)\n",
    "    return similitud\n",
    "\n",
    "#EJEMPLO\n",
    "a = np.array([1,2,3])\n",
    "vectors = np.array([[1,2,3],[4,5,6],[7,8,9]])\n",
    "print(similitud(a,vectors, tipo = \"euclidiana\"))"
   ]
  }
 ],
 "metadata": {
  "kernelspec": {
   "display_name": "EntornoVirtual",
   "language": "python",
   "name": "python3"
  },
  "language_info": {
   "name": "python",
   "version": "3.10.4"
  },
  "orig_nbformat": 4
 },
 "nbformat": 4,
 "nbformat_minor": 2
}
